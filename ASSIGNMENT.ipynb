{
 "cells": [
  {
   "cell_type": "code",
   "execution_count": 1,
   "id": "e2610fab",
   "metadata": {},
   "outputs": [
    {
     "name": "stdout",
     "output_type": "stream",
     "text": [
      "ENTER SALARY::500\n",
      "HOW MANY YEARS DID YOU SERVE?6\n",
      "YOUR BOUNS IS RS  525.0\n"
     ]
    }
   ],
   "source": [
    "#1\n",
    "user_salary = int(input(\"ENTER SALARY::\"))\n",
    "service_time = int(input(\"HOW MANY YEARS DID YOU SERVE?\"))\n",
    "bouns = (user_salary * 5)/100\n",
    "if service_time > 5:\n",
    "    user_salary += bouns\n",
    "    print(\"YOUR BOUNS IS RS \",user_salary)\n",
    "else:\n",
    "    print(\"NO BOUNS FOR YOU \",user_salary)"
   ]
  },
  {
   "cell_type": "code",
   "execution_count": 2,
   "id": "ec2a6434",
   "metadata": {},
   "outputs": [
    {
     "name": "stdout",
     "output_type": "stream",
     "text": [
      "ENTER YOUR AGE::15\n",
      "NOT ELIGIBLE\n"
     ]
    }
   ],
   "source": [
    "#2\n",
    "user_input =int(input(\"ENTER YOUR AGE::\"))\n",
    "if  user_input >17 :\n",
    "    print(\"ELIGIBLE\")\n",
    "else:\n",
    "    print(\"NOT ELIGIBLE\")"
   ]
  },
  {
   "cell_type": "code",
   "execution_count": 3,
   "id": "f1787a3e",
   "metadata": {},
   "outputs": [
    {
     "name": "stdout",
     "output_type": "stream",
     "text": [
      "ENTER NUMBER::3\n",
      "ODD\n"
     ]
    }
   ],
   "source": [
    "#3\n",
    "user_number = int(input(\"ENTER NUMBER::\"))\n",
    "if user_number%2 == 0:\n",
    "    print(\"EVEN\")\n",
    "else:\n",
    "    print(\"ODD\")"
   ]
  },
  {
   "cell_type": "code",
   "execution_count": 4,
   "id": "1d925805",
   "metadata": {},
   "outputs": [
    {
     "name": "stdout",
     "output_type": "stream",
     "text": [
      "ENTER NUMBER::8\n",
      "8 is not  divisible\n"
     ]
    }
   ],
   "source": [
    "#4\n",
    "user_number = int(input(\"ENTER NUMBER::\"))\n",
    "if user_number%7 == 0:\n",
    "    print(user_number ,\"is divisible\")\n",
    "else:\n",
    "    print(user_number ,\"is not  divisible\")"
   ]
  },
  {
   "cell_type": "code",
   "execution_count": 5,
   "id": "cd781483",
   "metadata": {},
   "outputs": [
    {
     "name": "stdout",
     "output_type": "stream",
     "text": [
      "ENTER NUMBER::3\n",
      "BYE\n"
     ]
    }
   ],
   "source": [
    "#5\n",
    "user_number = int(input(\"ENTER NUMBER::\"))\n",
    "if user_number%5 == 0:\n",
    "    print(\"HELLO\")\n",
    "else:\n",
    "    print(\"BYE\")"
   ]
  },
  {
   "cell_type": "code",
   "execution_count": 6,
   "id": "2265bdc6",
   "metadata": {},
   "outputs": [
    {
     "name": "stdout",
     "output_type": "stream",
     "text": [
      "ENTER ELECTRICITY UNIT::150\n",
      "YOUR BILL IS RS  750\n"
     ]
    }
   ],
   "source": [
    "#6\n",
    "user_electricity_unit = int(input(\"ENTER ELECTRICITY UNIT::\"))\n",
    "if user_electricity_unit > 0 and user_electricity_unit<= 100:\n",
    "    unit = 0\n",
    "    formula = user_electricity_unit * unit\n",
    "    print(\"YOUR BILL IS RS \",formula)\n",
    "elif user_electricity_unit > 100 and user_electricity_unit<= 200:\n",
    "    unit = 5\n",
    "    formula = user_electricity_unit * unit\n",
    "    print(\"YOUR BILL IS RS \",formula)\n",
    "elif user_electricity_unit > 200:\n",
    "    unit = 10\n",
    "    formula = user_electricity_unit * unit\n",
    "    print(\"YOUR BILL IS RS \",formula)"
   ]
  },
  {
   "cell_type": "code",
   "execution_count": 11,
   "id": "b420f8d5",
   "metadata": {},
   "outputs": [
    {
     "name": "stdout",
     "output_type": "stream",
     "text": [
      "ENTER NUMBER::143228999\n",
      "9\n"
     ]
    }
   ],
   "source": [
    "#7\n",
    "user_number = int(input(\"ENTER NUMBER::\"))\n",
    "user_number = str(user_number)\n",
    "user_length = len(user_number)\n",
    "user_last_digit = int(user_number[user_length-1])\n",
    "print(user_last_digit)"
   ]
  },
  {
   "cell_type": "code",
   "execution_count": 12,
   "id": "cf1d531d",
   "metadata": {},
   "outputs": [
    {
     "name": "stdout",
     "output_type": "stream",
     "text": [
      "ENTER NUMBER::14329\n",
      "yes it is .\n"
     ]
    }
   ],
   "source": [
    "#8\n",
    "user_number = int(input(\"ENTER NUMBER::\"))\n",
    "user_number = str(user_number)\n",
    "user_length = len(user_number)\n",
    "user_last_digit = int(user_number[user_length-1])\n",
    "if user_last_digit%3 == 0:\n",
    "    print(\"yes it is .\")\n",
    "else:\n",
    "    print(\"no,its not\")"
   ]
  },
  {
   "cell_type": "code",
   "execution_count": 13,
   "id": "14bfdbfc",
   "metadata": {},
   "outputs": [
    {
     "name": "stdout",
     "output_type": "stream",
     "text": [
      "ENTER LENGTH::78999\n",
      "ENTER BREATH::8933753\n",
      "RECTANGLE\n"
     ]
    }
   ],
   "source": [
    "#9\n",
    "length = int(input(\"ENTER LENGTH::\"))\n",
    "breath = int(input(\"ENTER BREATH::\"))\n",
    "if length == breath:\n",
    "    print(\"SQUARE\")\n",
    "else:\n",
    "    print(\"RECTANGLE\")"
   ]
  },
  {
   "cell_type": "code",
   "execution_count": 14,
   "id": "c674ab40",
   "metadata": {},
   "outputs": [
    {
     "name": "stdout",
     "output_type": "stream",
     "text": [
      "ENTER FIRST NUMBER::45\n",
      "ENTER SECOND NUMBER::200\n",
      "GREATER NUMBER IS 200\n"
     ]
    }
   ],
   "source": [
    "#10\n",
    "first_number = int(input(\"ENTER FIRST NUMBER::\"))\n",
    "second_number =int(input(\"ENTER SECOND NUMBER::\"))\n",
    "if first_number > second_number:\n",
    "    print(\"GREATER NUMBER IS\",first_number)\n",
    "else:\n",
    "    print(\"GREATER NUMBER IS\",second_number)"
   ]
  },
  {
   "cell_type": "code",
   "execution_count": 15,
   "id": "ee9ea51b",
   "metadata": {
    "scrolled": true
   },
   "outputs": [
    {
     "name": "stdout",
     "output_type": "stream",
     "text": [
      "ENTER QUANTITY::500\n",
      "AFTER 10% DISCOUNT RS  5000.0\n"
     ]
    }
   ],
   "source": [
    "#11\n",
    "item_quantity =int(input(\"ENTER QUANTITY::\"))\n",
    "one_item = 100\n",
    "total_price = item_quantity*100\n",
    "if total_price >= 1000:\n",
    "    discount = (total_price*10)/100\n",
    "    print(\"AFTER 10% DISCOUNT RS \",discount)\n",
    "else:\n",
    "    print(\"NO DISCOUNT YOUR TOTAL PRICE IS RS \",total_price)"
   ]
  },
  {
   "cell_type": "code",
   "execution_count": 16,
   "id": "8962a53a",
   "metadata": {},
   "outputs": [
    {
     "name": "stdout",
     "output_type": "stream",
     "text": [
      "ENTER MARKS::100\n",
      "A\n"
     ]
    }
   ],
   "source": [
    "#12\n",
    "marks = int(input(\"ENTER MARKS::\"))\n",
    "if marks < 25:\n",
    "    print(\"F\")\n",
    "elif marks > 25 and marks <= 45:\n",
    "    print(\"E\")\n",
    "elif marks > 45 and marks <= 50:\n",
    "    print(\"D\")\n",
    "elif marks > 50 and marks <= 60:\n",
    "    print(\"C\")\n",
    "elif marks > 60 and marks <= 80:\n",
    "    print(\"B\")\n",
    "else:\n",
    "    print(\"A\")"
   ]
  },
  {
   "cell_type": "code",
   "execution_count": 19,
   "id": "352e47a7",
   "metadata": {},
   "outputs": [
    {
     "name": "stdout",
     "output_type": "stream",
     "text": [
      "PERSON1 = ENTER AGE::18\n",
      "PERSON2 = ENTER AGE::65\n",
      "PERSON3 = ENTER AGE::35\n",
      "PERSON_2 IS OLDEST\n",
      "PERSON_1 IS YOUNGEST\n"
     ]
    }
   ],
   "source": [
    "#13\n",
    "person_1 =int(input(\"PERSON1 = ENTER AGE::\"))\n",
    "person_2 =int(input(\"PERSON2 = ENTER AGE::\"))\n",
    "person_3 =int(input(\"PERSON3 = ENTER AGE::\"))\n",
    "if person_1 > person_2 and person_1 > person_3:\n",
    "    print(\"PERSON_1 IS OLDEST\")\n",
    "elif person_2 > person_1 and person_2 > person_3:\n",
    "    print(\"PERSON_2 IS OLDEST\")\n",
    "elif person_3 > person_1 and person_3 > person_2:\n",
    "    print(\"PERSON_3 IS OLDEST\")\n",
    "if person_1 < person_2 and person_1 < person_3:\n",
    "    print(\"PERSON_1 IS YOUNGEST\")\n",
    "elif person_2 < person_1 and person_2 < person_3:\n",
    "    print(\"PERSON_2IS YOUNGEST\")\n",
    "elif person_3 < person_1 and person_3 < person_2:\n",
    "    print(\"PERSON_3 IS YOUNGEST\")"
   ]
  },
  {
   "cell_type": "code",
   "execution_count": 20,
   "id": "1ff45810",
   "metadata": {},
   "outputs": [
    {
     "name": "stdout",
     "output_type": "stream",
     "text": [
      "ENTER NUMBER OF CLASSES HELD::100\n",
      "ENTER NUMBER OF CLASSES ATTEND::50\n",
      "not allowed\n"
     ]
    }
   ],
   "source": [
    "#14\n",
    "class_held =int(input(\"ENTER NUMBER OF CLASSES HELD::\"))\n",
    "class_attend =int(input(\"ENTER NUMBER OF CLASSES ATTEND::\"))\n",
    "attendence_percentage = (class_attend*100)/class_held\n",
    "if attendence_percentage >= 75:\n",
    "    print(\"allowed\")\n",
    "else:\n",
    "    print(\"not allowed\")"
   ]
  },
  {
   "cell_type": "code",
   "execution_count": 21,
   "id": "09080c5a",
   "metadata": {},
   "outputs": [
    {
     "name": "stdout",
     "output_type": "stream",
     "text": [
      "ENTER NUMBER OF CLASSES HELD::100\n",
      "ENTER NUMBER OF CLASSES ATTEND::50\n",
      "MEDICAL CAUSE (Y/N)::Y\n",
      "allowed\n"
     ]
    }
   ],
   "source": [
    "#15\n",
    "class_held =int(input(\"ENTER NUMBER OF CLASSES HELD::\"))\n",
    "class_attend =int(input(\"ENTER NUMBER OF CLASSES ATTEND::\"))\n",
    "attendence_percentage = (class_attend*100)/class_held\n",
    "user_medical_issue = input(\"MEDICAL CAUSE (Y/N)::\")\n",
    "if attendence_percentage >= 75:\n",
    "    print(\"allowed\")\n",
    "elif attendence_percentage <= 75 and user_medical_issue == \"Y\":\n",
    "    print(\"allowed\")\n",
    "elif attendence_percentage <= 75 and user_medical_issue == \"N\":\n",
    "    print(\"NOT allowed\")"
   ]
  },
  {
   "cell_type": "code",
   "execution_count": 22,
   "id": "5f59c426",
   "metadata": {},
   "outputs": [
    {
     "name": "stdout",
     "output_type": "stream",
     "text": [
      "ENTER YEAR::2014\n",
      "ITS NOT A LEAP YEAR\n"
     ]
    }
   ],
   "source": [
    "#16\n",
    "year = int(input(\"ENTER YEAR::\"))\n",
    "if year % 4 == 0:\n",
    "    print(\"ITS A LEAP YEAR\")\n",
    "else:\n",
    "    print(\"ITS NOT A LEAP YEAR\")"
   ]
  },
  {
   "cell_type": "code",
   "execution_count": 23,
   "id": "7dc911c3",
   "metadata": {},
   "outputs": [
    {
     "name": "stdout",
     "output_type": "stream",
     "text": [
      "ENTER AGE::40\n",
      "ENTER GENDER(M/F)::M\n",
      "ENTER MATRIAL STATUS(Y/N)::Y\n",
      "YOU ARE  ELIGIBLE FOR WORK ONLY IN URBAN AREAS\n"
     ]
    }
   ],
   "source": [
    "#17\n",
    "user_age = int(input(\"ENTER AGE::\"))\n",
    "user_gender = input(\"ENTER GENDER(M/F)::\")\n",
    "user_matrial_status = input(\"ENTER MATRIAL STATUS(Y/N)::\")\n",
    "if user_gender == \"F\":\n",
    "    print(\"YOU CAN ONLY WORK IN URBAN AREAS\")\n",
    "elif user_gender == \"M\" and user_age >= 20 and user_age < 40 :\n",
    "    print(\"YOU ARE ELIGIBLE FOR WORK FROM ANYWHERE\")\n",
    "elif user_gender == \"M\" and user_age >=40 and user_age <= 60 :\n",
    "    print(\"YOU ARE  ELIGIBLE FOR WORK ONLY IN URBAN AREAS\")\n",
    "else:\n",
    "    print(\"ERROR\")"
   ]
  },
  {
   "cell_type": "code",
   "execution_count": null,
   "id": "a7387a9f",
   "metadata": {},
   "outputs": [],
   "source": []
  }
 ],
 "metadata": {
  "kernelspec": {
   "display_name": "Python 3 (ipykernel)",
   "language": "python",
   "name": "python3"
  },
  "language_info": {
   "codemirror_mode": {
    "name": "ipython",
    "version": 3
   },
   "file_extension": ".py",
   "mimetype": "text/x-python",
   "name": "python",
   "nbconvert_exporter": "python",
   "pygments_lexer": "ipython3",
   "version": "3.11.5"
  }
 },
 "nbformat": 4,
 "nbformat_minor": 5
}
